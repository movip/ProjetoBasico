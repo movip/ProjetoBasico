{
 "cells": [
  {
   "cell_type": "code",
   "execution_count": 8,
   "metadata": {},
   "outputs": [
    {
     "name": "stdout",
     "output_type": "stream",
     "text": [
      "Agradecemos pela sua participação, espero ajudar mais em breve!\n"
     ]
    }
   ],
   "source": [
    "import random\n",
    "\n",
    "class simulador_dados:\n",
    "    def __init__(self):\n",
    "\n",
    "        self.valor_minimo = 1\n",
    "        self.valor_maximo = 100\n",
    "        self.mensagem = 'Você gostaria de gerar um novo valor para o dado?'\n",
    "\n",
    "    def iniciar(self):\n",
    "        resposta = input(self.mensagem)\n",
    "        try:\n",
    "            if resposta == 'sim' or resposta == 'Sim' or resposta == 's' or resposta == 'S':\n",
    "                self.gerar_valor_dado()\n",
    "            elif resposta == 'nao' or resposta == 'não' or resposta == 'Não' or resposta == 'Nao' or resposta == 'n' or resposta == 'N':\n",
    "                print(\"Agradecemos pela sua participação, espero ajudar mais em breve!\")\n",
    "            else:\n",
    "                print(\"Favor digitar sim ou não\")\n",
    "        except:\n",
    "            print(\"Ocorreu um erro ao receber sua resposta\")\n",
    "\n",
    "    def gerar_valor_dado(self):\n",
    "        print(random.randint(self.valor_minimo, self.valor_maximo))\n",
    "\n",
    "simulador = simulador_dados()\n",
    "simulador.iniciar()                                    "
   ]
  }
 ],
 "metadata": {
  "interpreter": {
   "hash": "55c8404c16b930d74cc0116436eebba20e82b3ce61c8a650e64007af3d502042"
  },
  "kernelspec": {
   "display_name": "Python 3.9.7 64-bit (windows store)",
   "name": "python3"
  },
  "language_info": {
   "codemirror_mode": {
    "name": "ipython",
    "version": 3
   },
   "file_extension": ".py",
   "mimetype": "text/x-python",
   "name": "python",
   "nbconvert_exporter": "python",
   "pygments_lexer": "ipython3",
   "version": "3.9.7"
  },
  "orig_nbformat": 4
 },
 "nbformat": 4,
 "nbformat_minor": 2
}
